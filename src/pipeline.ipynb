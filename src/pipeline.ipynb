{
 "cells": [
  {
   "cell_type": "code",
   "execution_count": 1,
   "metadata": {},
   "outputs": [
    {
     "name": "stderr",
     "output_type": "stream",
     "text": [
      "/home/jsquared/.local/share/anaconda3/lib/python3.6/site-packages/h5py/__init__.py:36: FutureWarning: Conversion of the second argument of issubdtype from `float` to `np.floating` is deprecated. In future, it will be treated as `np.float64 == np.dtype(float).type`.\n",
      "  from ._conv import register_converters as _register_converters\n",
      "Using TensorFlow backend.\n"
     ]
    }
   ],
   "source": [
    "import os\n",
    "import numpy as np\n",
    "import matplotlib.pyplot as plt\n",
    "from sklearn.model_selection import train_test_split\n",
    "\n",
    "from discretization import make_cube, load_nparray, is_positive\n",
    "from settings import progress, extract_id, extracted_protein_suffix,training_examples_folder, \\\n",
    "extracted_ligand_suffix, extracted_data_test_folder, resolution_cube, nb_neg_ex_per_pos\n",
    "\n",
    "from models import first_model"
   ]
  },
  {
   "cell_type": "code",
   "execution_count": 2,
   "metadata": {},
   "outputs": [],
   "source": [
    "def get_cubes(nb_examples=128):\n",
    "    \"\"\"\n",
    "    Return the first nb_examples cubes with their ys.\n",
    "    :param nb_examples: \n",
    "    :return: list of cubes and list of their ys\n",
    "    \"\"\"\n",
    "    examples_files = sorted(os.listdir(training_examples_folder))[0:nb_examples]\n",
    "\n",
    "    cubes = []\n",
    "    ys = []\n",
    "    for index, ex_file in enumerate(examples_files):\n",
    "        file_name = os.path.join(training_examples_folder, ex_file)\n",
    "        example = load_nparray(file_name)\n",
    "\n",
    "        cube = make_cube(example, resolution_cube)\n",
    "        y = 1 * is_positive(ex_file)\n",
    "\n",
    "        cubes.append(cube)\n",
    "        ys.append(y)\n",
    "\n",
    "    # Conversion to np.ndarrays with the first axes used for examples\n",
    "    cubes = np.array(cubes)\n",
    "    ys = np.array(ys)\n",
    "    assert(ys.shape[0] == nb_examples)\n",
    "    assert(cubes.shape[0] == nb_examples)\n",
    "\n",
    "    return cubes, ys"
   ]
  },
  {
   "cell_type": "code",
   "execution_count": 5,
   "metadata": {},
   "outputs": [],
   "source": [
    "def examples_iterator(data_folder) -> (np.ndarray, str, str):\n",
    "    \"\"\"\n",
    "    Construct all the examples in the given folder\n",
    "\n",
    "    :param data_folder:\n",
    "    :return: a example (cube) at the time with the system used to construct the cube\n",
    "    \"\"\"\n",
    "    # Getting all the systems\n",
    "    list_systems_ids = set(list(map(extract_id, os.listdir(data_folder))))\n",
    "\n",
    "    # For each system, we create the associated positive example and we generate some negative examples\n",
    "    for system_id in progress(sorted(list_systems_ids)):\n",
    "        protein = load_nparray(os.path.join(data_folder, system_id + extracted_protein_suffix))\n",
    "        ligand = load_nparray(os.path.join(data_folder, system_id + extracted_ligand_suffix))\n",
    "\n",
    "        # Yielding first positive example\n",
    "        positive_example = np.concatenate((protein, ligand), axis=0)\n",
    "        cube_pos_example = make_cube(positive_example, resolution_cube)\n",
    "        yield cube_pos_example, system_id, system_id\n",
    "\n",
    "        # Yielding all the others negatives examples with the same protein\n",
    "        others_system = sorted(list(list_systems_ids.difference(set(system_id))))\n",
    "        for other_system in others_system:\n",
    "            bad_ligand = load_nparray(os.path.join(data_folder, other_system + extracted_ligand_suffix))\n",
    "\n",
    "            # Saving negative example\n",
    "            negative_example = np.concatenate((protein, bad_ligand), axis=0)\n",
    "            cube_neg_example = make_cube(negative_example, resolution_cube)\n",
    "            yield cube_neg_example, system_id, other_system"
   ]
  },
  {
   "cell_type": "code",
   "execution_count": 6,
   "metadata": {},
   "outputs": [
    {
     "name": "stdout",
     "output_type": "stream",
     "text": [
      "_________________________________________________________________\n",
      "Layer (type)                 Output Shape              Param #   \n",
      "=================================================================\n",
      "conv3d_2 (Conv3D)            (None, 28, 28, 28, 32)    3488      \n",
      "_________________________________________________________________\n",
      "flatten_2 (Flatten)          (None, 702464)            0         \n",
      "_________________________________________________________________\n",
      "dense_5 (Dense)              (None, 90)                63221850  \n",
      "_________________________________________________________________\n",
      "dense_6 (Dense)              (None, 60)                5460      \n",
      "_________________________________________________________________\n",
      "dense_7 (Dense)              (None, 30)                1830      \n",
      "_________________________________________________________________\n",
      "dense_8 (Dense)              (None, 1)                 31        \n",
      "=================================================================\n",
      "Total params: 63,232,659\n",
      "Trainable params: 63,232,659\n",
      "Non-trainable params: 0\n",
      "_________________________________________________________________\n"
     ]
    }
   ],
   "source": [
    "# Choosing the model\n",
    "model = first_model()\n",
    "model.summary()"
   ]
  },
  {
   "cell_type": "code",
   "execution_count": 7,
   "metadata": {},
   "outputs": [
    {
     "name": "stdout",
     "output_type": "stream",
     "text": [
      "Done loading dataset\n"
     ]
    }
   ],
   "source": [
    "# We are taking systems of the first 200 proteins (pos and neg example)\n",
    "nb_examples = 200 * (1 + nb_neg_ex_per_pos)\n",
    "cubes, ys = get_cubes(nb_examples)\n",
    "print(\"Done loading dataset\")"
   ]
  },
  {
   "cell_type": "code",
   "execution_count": 8,
   "metadata": {},
   "outputs": [
    {
     "name": "stdout",
     "output_type": "stream",
     "text": [
      "Epoch 1/1\n",
      "2200/2200 [==============================] - 513s 233ms/step - loss: 0.0928 - acc: 0.9041 - mean_pred: 0.0074\n"
     ]
    }
   ],
   "source": [
    "# Training the network\n",
    "history = model.fit(cubes, ys)"
   ]
  },
  {
   "cell_type": "code",
   "execution_count": 9,
   "metadata": {},
   "outputs": [
    {
     "data": {
      "image/png": "[encoded data removed]",
      "text/plain": [
       "<matplotlib.figure.Figure at 0x7f8388508ac8>"
      ]
     },
     "metadata": {},
     "output_type": "display_data"
    }
   ],
   "source": [
    "# Summarize history for Accuracy\n",
    "plt.plot(history.history['acc'])\n",
    "plt.title('Model accuracy')\n",
    "plt.ylabel('Accuracy')\n",
    "plt.xlabel('Epoch')\n",
    "plt.legend(['train', 'test'], loc='upper left')\n",
    "plt.show()"
   ]
  },
  {
   "cell_type": "code",
   "execution_count": null,
   "metadata": {},
   "outputs": [
    {
     "name": "stderr",
     "output_type": "stream",
     "text": [
      " [Elapsed Time: 0:05:35] |░⋅⋅⋅⋅⋅⋅⋅⋅⋅⋅⋅⋅⋅⋅⋅⋅⋅⋅⋅⋅⋅⋅⋅⋅⋅⋅⋅⋅⋅⋅⋅⋅⋅⋅| (ETA:      N/A) "
     ]
    }
   ],
   "source": [
    "# Testing\n",
    "from settings import progress\n",
    "ys = []\n",
    "y_preds = []\n",
    "for cube, protein_system, ligand_system in progress(examples_iterator(extracted_data_test_folder)):\n",
    "    y = 1 * (protein_system == ligand_system)\n",
    "    cube = np.array([cube])\n",
    "    y_pred = model.predict(cube)\n",
    "    ys.append(y)\n",
    "    y_preds.append(y_pred)"
   ]
  },
  {
   "cell_type": "code",
   "execution_count": null,
   "metadata": {},
   "outputs": [],
   "source": [
    "# Do some analysis here\n",
    "# Confusion matrix, metrics"
   ]
  }
 ],
 "metadata": {
  "kernelspec": {
   "display_name": "Python 3",
   "language": "python",
   "name": "python3"
  },
  "language_info": {
   "codemirror_mode": {
    "name": "ipython",
    "version": 3
   },
   "file_extension": ".py",
   "mimetype": "text/x-python",
   "name": "python",
   "nbconvert_exporter": "python",
   "pygments_lexer": "ipython3",
   "version": "3.6.4"
  }
 },
 "nbformat": 4,
 "nbformat_minor": 1
}
